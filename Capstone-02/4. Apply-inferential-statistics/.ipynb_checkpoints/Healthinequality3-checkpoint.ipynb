{
 "cells": [
  {
   "cell_type": "code",
   "execution_count": 2,
   "id": "2d2363dc",
   "metadata": {},
   "outputs": [],
   "source": [
    "import numpy as np\n",
    "import pandas as pd\n",
    "import matplotlib.pyplot as plt\n",
    "import seaborn as sns\n",
    "import scipy.stats as st"
   ]
  },
  {
   "cell_type": "code",
   "execution_count": 3,
   "id": "f66c0116",
   "metadata": {},
   "outputs": [],
   "source": [
    "table1 = pd.read_csv(r'C:\\Users\\ROBI\\OneDrive\\ডেস্কটপ\\Springboard_2021\\Capstone-02\\2. Data-Wrangling\\table_1.csv', index_col = None)\n",
    "table2 = pd.read_csv(r'C:\\Users\\ROBI\\OneDrive\\ডেস্কটপ\\Springboard_2021\\Capstone-02\\2. Data-Wrangling\\table_2.csv', index_col = None)"
   ]
  },
  {
   "cell_type": "code",
   "execution_count": null,
   "id": "d469bb35",
   "metadata": {},
   "outputs": [],
   "source": [
    "# distribution of life expectancy of male\n",
    "table1_m = table1[table1.gnd == 'M']\n",
    "plt.hist(table1_m.le_raceadj, bins=25, color=sns.color_palette(\"Set2\", 1))\n",
    "plt.title('Life Expectancy of Male')\n",
    "plt.show()"
   ]
  },
  {
   "cell_type": "code",
   "execution_count": null,
   "id": "7a70ffd7",
   "metadata": {},
   "outputs": [],
   "source": []
  }
 ],
 "metadata": {
  "kernelspec": {
   "display_name": "Python 3 (ipykernel)",
   "language": "python",
   "name": "python3"
  },
  "language_info": {
   "codemirror_mode": {
    "name": "ipython",
    "version": 3
   },
   "file_extension": ".py",
   "mimetype": "text/x-python",
   "name": "python",
   "nbconvert_exporter": "python",
   "pygments_lexer": "ipython3",
   "version": "3.8.12"
  }
 },
 "nbformat": 4,
 "nbformat_minor": 5
}
